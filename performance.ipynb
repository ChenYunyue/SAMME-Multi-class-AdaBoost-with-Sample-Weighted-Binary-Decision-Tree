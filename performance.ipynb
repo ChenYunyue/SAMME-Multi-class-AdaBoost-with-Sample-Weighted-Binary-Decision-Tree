{
 "cells": [
  {
   "cell_type": "markdown",
   "metadata": {},
   "source": [
    "# Performance of my model"
   ]
  },
  {
   "cell_type": "markdown",
   "metadata": {},
   "source": [
    "## Numerical sample weighted binary decision tree"
   ]
  },
  {
   "cell_type": "code",
   "execution_count": 6,
   "metadata": {},
   "outputs": [],
   "source": [
    "import collections\n",
    "from sklearn import datasets\n",
    "from sklearn.model_selection import train_test_split\n",
    "from sklearn.tree import DecisionTreeClassifier\n",
    "from myDecisionTree import MyDecisionTreeClassifier"
   ]
  },
  {
   "cell_type": "markdown",
   "metadata": {},
   "source": [
    "### Error rate of my decision tree and sklearn's decision tree model"
   ]
  },
  {
   "cell_type": "code",
   "execution_count": 7,
   "metadata": {},
   "outputs": [
    {
     "name": "stdout",
     "output_type": "stream",
     "text": [
      "error rate:  0.02\n",
      "sklearn error rate:  0.02\n"
     ]
    }
   ],
   "source": [
    "iris = datasets.load_iris()\n",
    "X = iris.data\n",
    "y = iris.target\n",
    "X_train, X_test, y_train, y_test = train_test_split(X, y, test_size=0.33, random_state=42)\n",
    "\n",
    "tree = MyDecisionTreeClassifier()\n",
    "tree.train(X_train, y_train)\n",
    "predicts = tree.predict(X_test)\n",
    "err = 0\n",
    "for ind, predict in enumerate(predicts):\n",
    "    groundLabel = y_test[ind]\n",
    "    if groundLabel != predict:\n",
    "        err += 1\n",
    "errRate = err / predicts.shape[0]\n",
    "print(\"error rate: \", errRate)\n",
    "\n",
    "clf = DecisionTreeClassifier()\n",
    "clf.fit(X_train, y_train)\n",
    "skPredicts = clf.predict(X_test)\n",
    "err = 0\n",
    "for ind, predict in enumerate(predicts):\n",
    "    groundLabel = y_test[ind]\n",
    "    if groundLabel != predict:\n",
    "        err += 1\n",
    "errRate = err / predicts.shape[0]\n",
    "print(\"sklearn error rate: \", errRate)"
   ]
  },
  {
   "cell_type": "markdown",
   "metadata": {},
   "source": [
    "### Using BFS to print each node of the decision tree"
   ]
  },
  {
   "cell_type": "markdown",
   "metadata": {},
   "source": [
    "Need to pay attention that the `attribute` in below is \"relative index\" of attributes. Since decision tree classifier will move out an attribute after using it to branch in a node, the number of remain attributes will be smaller and smaller."
   ]
  },
  {
   "cell_type": "code",
   "execution_count": 9,
   "metadata": {},
   "outputs": [
    {
     "name": "stdout",
     "output_type": "stream",
     "text": [
      " |attribute:  2 , threshold:  1.9 | \n",
      " |result:  0 | \n",
      " |attribute:  2 , threshold:  1.7 | \n",
      " |attribute:  0 , threshold:  7.0 | \n",
      " |attribute:  0 , threshold:  5.9 | \n",
      " |attribute:  0 , threshold:  2.6 | \n",
      " |result:  2 | \n",
      " |attribute:  0 , threshold:  3.0 | \n",
      " |result:  2 | \n",
      " |result:  1 | \n",
      " |result:  1 | \n",
      " |result:  2 | \n",
      " |result:  1 | \n"
     ]
    }
   ],
   "source": [
    "Nodes = collections.deque()\n",
    "Nodes.append(tree.root)\n",
    "while Nodes:\n",
    "    node = Nodes.popleft()\n",
    "    if node.result != None:\n",
    "        print(\" |result: \", node.result, \"| \")\n",
    "    else:\n",
    "        print(\" |attribute: \", node.attribute, \", threshold: \", node.threshold, \"| \")\n",
    "        Nodes.append(node.leftBranch)\n",
    "        Nodes.append(node.rightBranch)"
   ]
  }
 ],
 "metadata": {
  "kernelspec": {
   "display_name": "Python 3.8.13 ('base')",
   "language": "python",
   "name": "python3"
  },
  "language_info": {
   "codemirror_mode": {
    "name": "ipython",
    "version": 3
   },
   "file_extension": ".py",
   "mimetype": "text/x-python",
   "name": "python",
   "nbconvert_exporter": "python",
   "pygments_lexer": "ipython3",
   "version": "3.8.13"
  },
  "orig_nbformat": 4,
  "vscode": {
   "interpreter": {
    "hash": "ad2bdc8ecc057115af97d19610ffacc2b4e99fae6737bb82f5d7fb13d2f2c186"
   }
  }
 },
 "nbformat": 4,
 "nbformat_minor": 2
}
